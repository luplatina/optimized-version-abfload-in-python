{
 "cells": [
  {
   "cell_type": "code",
   "execution_count": 1,
   "metadata": {
    "collapsed": false
   },
   "outputs": [],
   "source": [
    "import axonread_LuBo as AR\n",
    "start_t=4.0\n",
    "end_t=16.0\n",
    "fn='H:\\\\axon data\\\\2016Jun09\\\\Aug04001.abf'\n",
    "data, si =AR.abfload(fn,start_t, end_t)"
   ]
  },
  {
   "cell_type": "code",
   "execution_count": 3,
   "metadata": {
    "collapsed": false
   },
   "outputs": [],
   "source": [
    "import numpy as np\n",
    "import matplotlib.pyplot as plt\n",
    "Itrace=data[:,0]\n",
    "Vtrace=data[:,1] \n",
    "ttrace=np.arange(1,len(Itrace)+1,1.0)/si\n",
    "\n",
    "plt.subplot(211)\n",
    "plt.plot(ttrace[:],Itrace[:])\n",
    "plt.xlabel('Time (sec)')\n",
    "plt.ylabel('Current (nA)')\n",
    "#plt.ylim(-0.05, 0.05)\n",
    "plt.subplot(212)\n",
    "plt.plot(ttrace[:],Vtrace[:])\n",
    "plt.xlabel('Time (sec)')\n",
    "plt.ylabel('Voltage (V)')\n",
    "plt.show()"
   ]
  },
  {
   "cell_type": "code",
   "execution_count": null,
   "metadata": {
    "collapsed": true
   },
   "outputs": [],
   "source": []
  }
 ],
 "metadata": {
  "kernelspec": {
   "display_name": "Python 3",
   "language": "python",
   "name": "python3"
  },
  "language_info": {
   "codemirror_mode": {
    "name": "ipython",
    "version": 3
   },
   "file_extension": ".py",
   "mimetype": "text/x-python",
   "name": "python",
   "nbconvert_exporter": "python",
   "pygments_lexer": "ipython3",
   "version": "3.5.1"
  }
 },
 "nbformat": 4,
 "nbformat_minor": 0
}
